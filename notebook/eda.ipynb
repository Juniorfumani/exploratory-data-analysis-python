{
 "cells": [
  {
   "cell_type": "markdown",
   "id": "novel-british",
   "metadata": {},
   "source": [
    "# Introduction\n",
    "The data set analyzed in this notebook encompasses health and demographic information from the years 2014-2015, derived from the Global Health Observatory Data. The aim is to explore various aspects of the data and address specific questions regarding missing values, data problems, population characteristics, and regional trends. By examining these factors, i can gain insights into the relationship between socio-demographic factors and health outcomes across different regions. The investigation also includes identifying the country with the lowest and highest percentage of the population under 15 years old. Additionally, i will determine which region exhibits the highest percentage of their population over 60, shedding light on the age distribution patterns across different regions. Moreover, we will explore the relationship between income and fertility, examining whether fertility rates decrease as income increases, Lastly, we will create appropriate graphs to visually represent the relationship between literacy and life expectancy, both for different regions and specifically for African countries. \n"
   ]
  },
  {
   "cell_type": "markdown",
   "id": "material-peripheral",
   "metadata": {},
   "source": [
    "# Data processing"
   ]
  },
  {
   "cell_type": "code",
   "execution_count": 1,
   "id": "material-silly",
   "metadata": {},
   "outputs": [],
   "source": [
    "import pandas as pd\n",
    "import matplotlib .pyplot as plt\n",
    "%matplotlib inline\n",
    "import seaborn as sns\n",
    "import matplotlib.font_manager as fm"
   ]
  },
  {
   "cell_type": "markdown",
   "id": "5e693eaf",
   "metadata": {},
   "source": [
    "on the below line i'm going to set my font-weight as a globlal varial varial so i can access it anytime i want to use it"
   ]
  },
  {
   "cell_type": "code",
   "execution_count": 2,
   "id": "60c12d76",
   "metadata": {},
   "outputs": [],
   "source": [
    "font_weight = fm.FontProperties(weight='bold')"
   ]
  },
  {
   "cell_type": "markdown",
   "id": "ae1b4ba4",
   "metadata": {},
   "source": [
    "This is where i load the data and preview the first 10 rows on the data so i can have a better picture of the data that i'm handling "
   ]
  },
  {
   "cell_type": "code",
   "execution_count": 3,
   "id": "53c73b38",
   "metadata": {},
   "outputs": [
    {
     "data": {
      "text/html": [
       "<div>\n",
       "<style scoped>\n",
       "    .dataframe tbody tr th:only-of-type {\n",
       "        vertical-align: middle;\n",
       "    }\n",
       "\n",
       "    .dataframe tbody tr th {\n",
       "        vertical-align: top;\n",
       "    }\n",
       "\n",
       "    .dataframe thead th {\n",
       "        text-align: right;\n",
       "    }\n",
       "</style>\n",
       "<table border=\"1\" class=\"dataframe\">\n",
       "  <thead>\n",
       "    <tr style=\"text-align: right;\">\n",
       "      <th></th>\n",
       "      <th>Country</th>\n",
       "      <th>Region</th>\n",
       "      <th>Population</th>\n",
       "      <th>Under15</th>\n",
       "      <th>Over60</th>\n",
       "      <th>FertilityRate</th>\n",
       "      <th>LifeExpectancy</th>\n",
       "      <th>ChildMortality</th>\n",
       "      <th>CellularSubscribers</th>\n",
       "      <th>LiteracyRate</th>\n",
       "      <th>GNI</th>\n",
       "      <th>PrimarySchoolEnrollmentMale</th>\n",
       "      <th>PrimarySchoolEnrollmentFemale</th>\n",
       "    </tr>\n",
       "  </thead>\n",
       "  <tbody>\n",
       "    <tr>\n",
       "      <th>0</th>\n",
       "      <td>Afghanistan</td>\n",
       "      <td>Eastern Mediterranean</td>\n",
       "      <td>29825</td>\n",
       "      <td>47.42</td>\n",
       "      <td>3.82</td>\n",
       "      <td>5.40</td>\n",
       "      <td>60</td>\n",
       "      <td>98.5</td>\n",
       "      <td>54.26</td>\n",
       "      <td>NaN</td>\n",
       "      <td>1140.0</td>\n",
       "      <td>NaN</td>\n",
       "      <td>NaN</td>\n",
       "    </tr>\n",
       "    <tr>\n",
       "      <th>1</th>\n",
       "      <td>Albania</td>\n",
       "      <td>Europe</td>\n",
       "      <td>3162</td>\n",
       "      <td>21.33</td>\n",
       "      <td>14.93</td>\n",
       "      <td>1.75</td>\n",
       "      <td>74</td>\n",
       "      <td>16.7</td>\n",
       "      <td>96.39</td>\n",
       "      <td>NaN</td>\n",
       "      <td>8820.0</td>\n",
       "      <td>NaN</td>\n",
       "      <td>NaN</td>\n",
       "    </tr>\n",
       "    <tr>\n",
       "      <th>2</th>\n",
       "      <td>Algeria</td>\n",
       "      <td>Africa</td>\n",
       "      <td>38482</td>\n",
       "      <td>27.42</td>\n",
       "      <td>7.17</td>\n",
       "      <td>2.83</td>\n",
       "      <td>73</td>\n",
       "      <td>20.0</td>\n",
       "      <td>98.99</td>\n",
       "      <td>NaN</td>\n",
       "      <td>8310.0</td>\n",
       "      <td>98.2</td>\n",
       "      <td>96.4</td>\n",
       "    </tr>\n",
       "    <tr>\n",
       "      <th>3</th>\n",
       "      <td>Andorra</td>\n",
       "      <td>Europe</td>\n",
       "      <td>78</td>\n",
       "      <td>15.20</td>\n",
       "      <td>22.86</td>\n",
       "      <td>NaN</td>\n",
       "      <td>82</td>\n",
       "      <td>3.2</td>\n",
       "      <td>75.49</td>\n",
       "      <td>NaN</td>\n",
       "      <td>NaN</td>\n",
       "      <td>78.4</td>\n",
       "      <td>79.4</td>\n",
       "    </tr>\n",
       "    <tr>\n",
       "      <th>4</th>\n",
       "      <td>Angola</td>\n",
       "      <td>Africa</td>\n",
       "      <td>20821</td>\n",
       "      <td>47.58</td>\n",
       "      <td>3.84</td>\n",
       "      <td>6.10</td>\n",
       "      <td>51</td>\n",
       "      <td>163.5</td>\n",
       "      <td>48.38</td>\n",
       "      <td>70.1</td>\n",
       "      <td>5230.0</td>\n",
       "      <td>93.1</td>\n",
       "      <td>78.2</td>\n",
       "    </tr>\n",
       "    <tr>\n",
       "      <th>5</th>\n",
       "      <td>Antigua and Barbuda</td>\n",
       "      <td>Americas</td>\n",
       "      <td>89</td>\n",
       "      <td>25.96</td>\n",
       "      <td>12.35</td>\n",
       "      <td>2.12</td>\n",
       "      <td>75</td>\n",
       "      <td>9.9</td>\n",
       "      <td>196.41</td>\n",
       "      <td>99.0</td>\n",
       "      <td>17900.0</td>\n",
       "      <td>91.1</td>\n",
       "      <td>84.5</td>\n",
       "    </tr>\n",
       "    <tr>\n",
       "      <th>6</th>\n",
       "      <td>Argentina</td>\n",
       "      <td>Americas</td>\n",
       "      <td>41087</td>\n",
       "      <td>24.42</td>\n",
       "      <td>14.97</td>\n",
       "      <td>2.20</td>\n",
       "      <td>76</td>\n",
       "      <td>14.2</td>\n",
       "      <td>134.92</td>\n",
       "      <td>97.8</td>\n",
       "      <td>17130.0</td>\n",
       "      <td>NaN</td>\n",
       "      <td>NaN</td>\n",
       "    </tr>\n",
       "    <tr>\n",
       "      <th>7</th>\n",
       "      <td>Armenia</td>\n",
       "      <td>Europe</td>\n",
       "      <td>2969</td>\n",
       "      <td>20.34</td>\n",
       "      <td>14.06</td>\n",
       "      <td>1.74</td>\n",
       "      <td>71</td>\n",
       "      <td>16.4</td>\n",
       "      <td>103.57</td>\n",
       "      <td>99.6</td>\n",
       "      <td>6100.0</td>\n",
       "      <td>NaN</td>\n",
       "      <td>NaN</td>\n",
       "    </tr>\n",
       "    <tr>\n",
       "      <th>8</th>\n",
       "      <td>Australia</td>\n",
       "      <td>Western Pacific</td>\n",
       "      <td>23050</td>\n",
       "      <td>18.95</td>\n",
       "      <td>19.46</td>\n",
       "      <td>1.89</td>\n",
       "      <td>82</td>\n",
       "      <td>4.9</td>\n",
       "      <td>108.34</td>\n",
       "      <td>NaN</td>\n",
       "      <td>38110.0</td>\n",
       "      <td>96.9</td>\n",
       "      <td>97.5</td>\n",
       "    </tr>\n",
       "    <tr>\n",
       "      <th>9</th>\n",
       "      <td>Austria</td>\n",
       "      <td>Europe</td>\n",
       "      <td>8464</td>\n",
       "      <td>14.51</td>\n",
       "      <td>23.52</td>\n",
       "      <td>1.44</td>\n",
       "      <td>81</td>\n",
       "      <td>4.0</td>\n",
       "      <td>154.78</td>\n",
       "      <td>NaN</td>\n",
       "      <td>42050.0</td>\n",
       "      <td>NaN</td>\n",
       "      <td>NaN</td>\n",
       "    </tr>\n",
       "  </tbody>\n",
       "</table>\n",
       "</div>"
      ],
      "text/plain": [
       "               Country                 Region  Population  Under15  Over60  \\\n",
       "0          Afghanistan  Eastern Mediterranean       29825    47.42    3.82   \n",
       "1              Albania                 Europe        3162    21.33   14.93   \n",
       "2              Algeria                 Africa       38482    27.42    7.17   \n",
       "3              Andorra                 Europe          78    15.20   22.86   \n",
       "4               Angola                 Africa       20821    47.58    3.84   \n",
       "5  Antigua and Barbuda               Americas          89    25.96   12.35   \n",
       "6            Argentina               Americas       41087    24.42   14.97   \n",
       "7              Armenia                 Europe        2969    20.34   14.06   \n",
       "8            Australia        Western Pacific       23050    18.95   19.46   \n",
       "9              Austria                 Europe        8464    14.51   23.52   \n",
       "\n",
       "   FertilityRate  LifeExpectancy  ChildMortality  CellularSubscribers  \\\n",
       "0           5.40              60            98.5                54.26   \n",
       "1           1.75              74            16.7                96.39   \n",
       "2           2.83              73            20.0                98.99   \n",
       "3            NaN              82             3.2                75.49   \n",
       "4           6.10              51           163.5                48.38   \n",
       "5           2.12              75             9.9               196.41   \n",
       "6           2.20              76            14.2               134.92   \n",
       "7           1.74              71            16.4               103.57   \n",
       "8           1.89              82             4.9               108.34   \n",
       "9           1.44              81             4.0               154.78   \n",
       "\n",
       "   LiteracyRate      GNI  PrimarySchoolEnrollmentMale  \\\n",
       "0           NaN   1140.0                          NaN   \n",
       "1           NaN   8820.0                          NaN   \n",
       "2           NaN   8310.0                         98.2   \n",
       "3           NaN      NaN                         78.4   \n",
       "4          70.1   5230.0                         93.1   \n",
       "5          99.0  17900.0                         91.1   \n",
       "6          97.8  17130.0                          NaN   \n",
       "7          99.6   6100.0                          NaN   \n",
       "8           NaN  38110.0                         96.9   \n",
       "9           NaN  42050.0                          NaN   \n",
       "\n",
       "   PrimarySchoolEnrollmentFemale  \n",
       "0                            NaN  \n",
       "1                            NaN  \n",
       "2                           96.4  \n",
       "3                           79.4  \n",
       "4                           78.2  \n",
       "5                           84.5  \n",
       "6                            NaN  \n",
       "7                            NaN  \n",
       "8                           97.5  \n",
       "9                            NaN  "
      ]
     },
     "execution_count": 3,
     "metadata": {},
     "output_type": "execute_result"
    }
   ],
   "source": [
    "data = pd.read_csv(\"../data/raw_data.csv\") \n",
    "data.head(10)"
   ]
  },
  {
   "cell_type": "markdown",
   "id": "593bd83b",
   "metadata": {},
   "source": [
    "Below i'm going to display the information about the dataset"
   ]
  },
  {
   "cell_type": "code",
   "execution_count": 4,
   "id": "5254db9b",
   "metadata": {},
   "outputs": [
    {
     "name": "stdout",
     "output_type": "stream",
     "text": [
      "<class 'pandas.core.frame.DataFrame'>\n",
      "RangeIndex: 194 entries, 0 to 193\n",
      "Data columns (total 13 columns):\n",
      " #   Column                         Non-Null Count  Dtype  \n",
      "---  ------                         --------------  -----  \n",
      " 0   Country                        194 non-null    object \n",
      " 1   Region                         194 non-null    object \n",
      " 2   Population                     194 non-null    int64  \n",
      " 3   Under15                        194 non-null    float64\n",
      " 4   Over60                         194 non-null    float64\n",
      " 5   FertilityRate                  183 non-null    float64\n",
      " 6   LifeExpectancy                 194 non-null    int64  \n",
      " 7   ChildMortality                 194 non-null    float64\n",
      " 8   CellularSubscribers            184 non-null    float64\n",
      " 9   LiteracyRate                   103 non-null    float64\n",
      " 10  GNI                            162 non-null    float64\n",
      " 11  PrimarySchoolEnrollmentMale    101 non-null    float64\n",
      " 12  PrimarySchoolEnrollmentFemale  101 non-null    float64\n",
      "dtypes: float64(9), int64(2), object(2)\n",
      "memory usage: 19.8+ KB\n"
     ]
    }
   ],
   "source": [
    "data.info()"
   ]
  },
  {
   "cell_type": "markdown",
   "id": "5489487a",
   "metadata": {},
   "source": [
    "On the line below i'm going to display the statistical summary of the dataset"
   ]
  },
  {
   "cell_type": "code",
   "execution_count": 5,
   "id": "bf87503d",
   "metadata": {},
   "outputs": [
    {
     "data": {
      "text/html": [
       "<div>\n",
       "<style scoped>\n",
       "    .dataframe tbody tr th:only-of-type {\n",
       "        vertical-align: middle;\n",
       "    }\n",
       "\n",
       "    .dataframe tbody tr th {\n",
       "        vertical-align: top;\n",
       "    }\n",
       "\n",
       "    .dataframe thead th {\n",
       "        text-align: right;\n",
       "    }\n",
       "</style>\n",
       "<table border=\"1\" class=\"dataframe\">\n",
       "  <thead>\n",
       "    <tr style=\"text-align: right;\">\n",
       "      <th></th>\n",
       "      <th>Population</th>\n",
       "      <th>Under15</th>\n",
       "      <th>Over60</th>\n",
       "      <th>FertilityRate</th>\n",
       "      <th>LifeExpectancy</th>\n",
       "      <th>ChildMortality</th>\n",
       "      <th>CellularSubscribers</th>\n",
       "      <th>LiteracyRate</th>\n",
       "      <th>GNI</th>\n",
       "      <th>PrimarySchoolEnrollmentMale</th>\n",
       "      <th>PrimarySchoolEnrollmentFemale</th>\n",
       "    </tr>\n",
       "  </thead>\n",
       "  <tbody>\n",
       "    <tr>\n",
       "      <th>count</th>\n",
       "      <td>1.940000e+02</td>\n",
       "      <td>194.000000</td>\n",
       "      <td>194.000000</td>\n",
       "      <td>183.000000</td>\n",
       "      <td>194.000000</td>\n",
       "      <td>194.000000</td>\n",
       "      <td>184.000000</td>\n",
       "      <td>103.000000</td>\n",
       "      <td>162.000000</td>\n",
       "      <td>101.000000</td>\n",
       "      <td>101.000000</td>\n",
       "    </tr>\n",
       "    <tr>\n",
       "      <th>mean</th>\n",
       "      <td>3.635997e+04</td>\n",
       "      <td>28.732423</td>\n",
       "      <td>11.163660</td>\n",
       "      <td>2.940656</td>\n",
       "      <td>70.010309</td>\n",
       "      <td>36.148969</td>\n",
       "      <td>93.641522</td>\n",
       "      <td>83.710680</td>\n",
       "      <td>13320.925926</td>\n",
       "      <td>90.850495</td>\n",
       "      <td>89.632673</td>\n",
       "    </tr>\n",
       "    <tr>\n",
       "      <th>std</th>\n",
       "      <td>1.379031e+05</td>\n",
       "      <td>10.534573</td>\n",
       "      <td>7.149331</td>\n",
       "      <td>1.480984</td>\n",
       "      <td>9.259075</td>\n",
       "      <td>37.992935</td>\n",
       "      <td>41.400447</td>\n",
       "      <td>17.530645</td>\n",
       "      <td>15192.988650</td>\n",
       "      <td>11.017147</td>\n",
       "      <td>12.817614</td>\n",
       "    </tr>\n",
       "    <tr>\n",
       "      <th>min</th>\n",
       "      <td>1.000000e+00</td>\n",
       "      <td>13.120000</td>\n",
       "      <td>0.810000</td>\n",
       "      <td>1.260000</td>\n",
       "      <td>47.000000</td>\n",
       "      <td>2.200000</td>\n",
       "      <td>2.570000</td>\n",
       "      <td>31.100000</td>\n",
       "      <td>340.000000</td>\n",
       "      <td>37.200000</td>\n",
       "      <td>32.500000</td>\n",
       "    </tr>\n",
       "    <tr>\n",
       "      <th>25%</th>\n",
       "      <td>1.695750e+03</td>\n",
       "      <td>18.717500</td>\n",
       "      <td>5.200000</td>\n",
       "      <td>1.835000</td>\n",
       "      <td>64.000000</td>\n",
       "      <td>8.425000</td>\n",
       "      <td>63.567500</td>\n",
       "      <td>71.600000</td>\n",
       "      <td>2335.000000</td>\n",
       "      <td>87.700000</td>\n",
       "      <td>87.300000</td>\n",
       "    </tr>\n",
       "    <tr>\n",
       "      <th>50%</th>\n",
       "      <td>7.790000e+03</td>\n",
       "      <td>28.650000</td>\n",
       "      <td>8.530000</td>\n",
       "      <td>2.400000</td>\n",
       "      <td>72.500000</td>\n",
       "      <td>18.600000</td>\n",
       "      <td>97.745000</td>\n",
       "      <td>91.800000</td>\n",
       "      <td>7870.000000</td>\n",
       "      <td>94.700000</td>\n",
       "      <td>95.100000</td>\n",
       "    </tr>\n",
       "    <tr>\n",
       "      <th>75%</th>\n",
       "      <td>2.453525e+04</td>\n",
       "      <td>37.752500</td>\n",
       "      <td>16.687500</td>\n",
       "      <td>3.905000</td>\n",
       "      <td>76.000000</td>\n",
       "      <td>55.975000</td>\n",
       "      <td>120.805000</td>\n",
       "      <td>97.850000</td>\n",
       "      <td>17557.500000</td>\n",
       "      <td>98.100000</td>\n",
       "      <td>97.900000</td>\n",
       "    </tr>\n",
       "    <tr>\n",
       "      <th>max</th>\n",
       "      <td>1.390000e+06</td>\n",
       "      <td>49.990000</td>\n",
       "      <td>31.920000</td>\n",
       "      <td>7.580000</td>\n",
       "      <td>83.000000</td>\n",
       "      <td>181.600000</td>\n",
       "      <td>196.410000</td>\n",
       "      <td>99.800000</td>\n",
       "      <td>86440.000000</td>\n",
       "      <td>100.000000</td>\n",
       "      <td>100.000000</td>\n",
       "    </tr>\n",
       "  </tbody>\n",
       "</table>\n",
       "</div>"
      ],
      "text/plain": [
       "         Population     Under15      Over60  FertilityRate  LifeExpectancy  \\\n",
       "count  1.940000e+02  194.000000  194.000000     183.000000      194.000000   \n",
       "mean   3.635997e+04   28.732423   11.163660       2.940656       70.010309   \n",
       "std    1.379031e+05   10.534573    7.149331       1.480984        9.259075   \n",
       "min    1.000000e+00   13.120000    0.810000       1.260000       47.000000   \n",
       "25%    1.695750e+03   18.717500    5.200000       1.835000       64.000000   \n",
       "50%    7.790000e+03   28.650000    8.530000       2.400000       72.500000   \n",
       "75%    2.453525e+04   37.752500   16.687500       3.905000       76.000000   \n",
       "max    1.390000e+06   49.990000   31.920000       7.580000       83.000000   \n",
       "\n",
       "       ChildMortality  CellularSubscribers  LiteracyRate           GNI  \\\n",
       "count      194.000000           184.000000    103.000000    162.000000   \n",
       "mean        36.148969            93.641522     83.710680  13320.925926   \n",
       "std         37.992935            41.400447     17.530645  15192.988650   \n",
       "min          2.200000             2.570000     31.100000    340.000000   \n",
       "25%          8.425000            63.567500     71.600000   2335.000000   \n",
       "50%         18.600000            97.745000     91.800000   7870.000000   \n",
       "75%         55.975000           120.805000     97.850000  17557.500000   \n",
       "max        181.600000           196.410000     99.800000  86440.000000   \n",
       "\n",
       "       PrimarySchoolEnrollmentMale  PrimarySchoolEnrollmentFemale  \n",
       "count                   101.000000                     101.000000  \n",
       "mean                     90.850495                      89.632673  \n",
       "std                      11.017147                      12.817614  \n",
       "min                      37.200000                      32.500000  \n",
       "25%                      87.700000                      87.300000  \n",
       "50%                      94.700000                      95.100000  \n",
       "75%                      98.100000                      97.900000  \n",
       "max                     100.000000                     100.000000  "
      ]
     },
     "execution_count": 5,
     "metadata": {},
     "output_type": "execute_result"
    }
   ],
   "source": [
    "data_description = data.describe()\n",
    "data_description"
   ]
  },
  {
   "cell_type": "markdown",
   "id": "91d2cf4a",
   "metadata": {},
   "source": [
    "Below i'm going to begin some exploratory data analysis, i will start by checking out missing data or missing value on the data, Dealing with missing values is a critical step in the analysis process, as it can impact the accuracy and validity of the results. i will use a statistical formula to sum up all the missing values per column on my data set and view them"
   ]
  },
  {
   "cell_type": "code",
   "execution_count": 6,
   "id": "abde9d79",
   "metadata": {},
   "outputs": [
    {
     "data": {
      "text/plain": [
       "PrimarySchoolEnrollmentMale      93\n",
       "PrimarySchoolEnrollmentFemale    93\n",
       "LiteracyRate                     91\n",
       "GNI                              32\n",
       "FertilityRate                    11\n",
       "CellularSubscribers              10\n",
       "Country                           0\n",
       "Region                            0\n",
       "Population                        0\n",
       "Under15                           0\n",
       "Over60                            0\n",
       "LifeExpectancy                    0\n",
       "ChildMortality                    0\n",
       "dtype: int64"
      ]
     },
     "execution_count": 6,
     "metadata": {},
     "output_type": "execute_result"
    }
   ],
   "source": [
    "data.isnull().sum().sort_values(ascending=False)"
   ]
  },
  {
   "cell_type": "markdown",
   "id": "56658ac9",
   "metadata": {},
   "source": [
    "Above I have found that there are missing values on the data. below i'm going to use statistical methods to deal with the missing value.i will use the the average values to impute based on the column, I'm going to replace the missing value with the mean value because it's the average and it's not going to affect our data distribution after replacing missing values with mean value."
   ]
  },
  {
   "cell_type": "markdown",
   "id": "cda7b268",
   "metadata": {},
   "source": [
    "Below I'm going to calculate the median for each region for the columns with missing values"
   ]
  },
  {
   "cell_type": "code",
   "execution_count": 7,
   "id": "6b53f6df",
   "metadata": {},
   "outputs": [],
   "source": [
    "region_medians = data.groupby('Region').median()"
   ]
  },
  {
   "cell_type": "markdown",
   "id": "7df3e53b",
   "metadata": {},
   "source": [
    "Below I'm going to fill NaN values with the respective region's median value"
   ]
  },
  {
   "cell_type": "code",
   "execution_count": 8,
   "id": "bd34034c",
   "metadata": {},
   "outputs": [],
   "source": [
    "data['LiteracyRate'] = data.apply(lambda row: region_medians.loc[row['Region']]['LiteracyRate'] if pd.isna(row['LiteracyRate']) else row['LiteracyRate'], axis=1)\n",
    "data['PrimarySchoolEnrollmentMale'] = data.apply(lambda row: region_medians.loc[row['Region']]['PrimarySchoolEnrollmentMale'] if pd.isna(row['PrimarySchoolEnrollmentMale']) else row['PrimarySchoolEnrollmentMale'], axis=1)\n",
    "data['PrimarySchoolEnrollmentFemale'] = data.apply(lambda row: region_medians.loc[row['Region']]['PrimarySchoolEnrollmentFemale'] if pd.isna(row['PrimarySchoolEnrollmentFemale']) else row['PrimarySchoolEnrollmentFemale'], axis=1)"
   ]
  },
  {
   "cell_type": "markdown",
   "id": "2d4c67e0",
   "metadata": {},
   "source": [
    "Below I'm going to Calculate the median for the 'GNI' and 'FertilityRate' columns for each region"
   ]
  },
  {
   "cell_type": "code",
   "execution_count": 9,
   "id": "1617d1f4",
   "metadata": {},
   "outputs": [],
   "source": [
    "region_gni_medians = data.groupby('Region')['GNI'].median()\n",
    "region_fertility_medians = data.groupby('Region')['FertilityRate'].median()"
   ]
  },
  {
   "cell_type": "markdown",
   "id": "5905c060",
   "metadata": {},
   "source": [
    "Below I'm going to fill NaN values in 'GNI' and 'FertilityRate' with the respective region's median value"
   ]
  },
  {
   "cell_type": "code",
   "execution_count": 10,
   "id": "1fa3a6a9",
   "metadata": {},
   "outputs": [],
   "source": [
    "data['GNI'] = data.apply(lambda row: region_gni_medians.loc[row['Region']] if pd.isna(row['GNI']) else row['GNI'], axis=1)\n",
    "data['FertilityRate'] = data.apply(lambda row: region_fertility_medians.loc[row['Region']] if pd.isna(row['FertilityRate']) else row['FertilityRate'], axis=1)"
   ]
  },
  {
   "cell_type": "markdown",
   "id": "8542937a",
   "metadata": {},
   "source": [
    "Below I'm going to alculate the median for the 'CellularSubscribers' column"
   ]
  },
  {
   "cell_type": "code",
   "execution_count": 11,
   "id": "d719fdeb",
   "metadata": {},
   "outputs": [],
   "source": [
    "cellular_subscribers_median = data['CellularSubscribers'].median()"
   ]
  },
  {
   "cell_type": "markdown",
   "id": "20d0a9f6",
   "metadata": {},
   "source": [
    "Below I'm going to fill NaN values in 'CellularSubscribers' with the median of the column"
   ]
  },
  {
   "cell_type": "code",
   "execution_count": 12,
   "id": "0f2aff0b",
   "metadata": {},
   "outputs": [],
   "source": [
    "data['CellularSubscribers'] = data['CellularSubscribers'].fillna(cellular_subscribers_median)"
   ]
  },
  {
   "cell_type": "markdown",
   "id": "0b0836f8",
   "metadata": {},
   "source": [
    "Below I'm going to check if I still have missing values on my data after replacing all the missing values with a mean value. I replaced the missing value with the mean value just because this is an approximation which can add variance to the data set."
   ]
  },
  {
   "cell_type": "code",
   "execution_count": 13,
   "id": "d584c561",
   "metadata": {},
   "outputs": [
    {
     "data": {
      "text/plain": [
       "Country                          0\n",
       "Region                           0\n",
       "Population                       0\n",
       "Under15                          0\n",
       "Over60                           0\n",
       "FertilityRate                    0\n",
       "LifeExpectancy                   0\n",
       "ChildMortality                   0\n",
       "CellularSubscribers              0\n",
       "LiteracyRate                     0\n",
       "GNI                              0\n",
       "PrimarySchoolEnrollmentMale      0\n",
       "PrimarySchoolEnrollmentFemale    0\n",
       "dtype: int64"
      ]
     },
     "execution_count": 13,
     "metadata": {},
     "output_type": "execute_result"
    }
   ],
   "source": [
    "data.isnull().sum().sort_values(ascending=False)"
   ]
  },
  {
   "cell_type": "markdown",
   "id": "0b59a2ef",
   "metadata": {},
   "source": [
    "below i'm going to check id i have duplicate on my data"
   ]
  },
  {
   "cell_type": "code",
   "execution_count": 14,
   "id": "b939dfb7",
   "metadata": {},
   "outputs": [
    {
     "data": {
      "text/plain": [
       "0"
      ]
     },
     "execution_count": 14,
     "metadata": {},
     "output_type": "execute_result"
    }
   ],
   "source": [
    "data.duplicated().sum()"
   ]
  },
  {
   "cell_type": "markdown",
   "id": "988a9474",
   "metadata": {},
   "source": [
    "Above I have done more data exploration to check if there are any more problems with the data and no other problems have been detected on the data."
   ]
  },
  {
   "cell_type": "markdown",
   "id": "8d31fe9b",
   "metadata": {},
   "source": [
    "# Exploratory data analysis"
   ]
  },
  {
   "cell_type": "markdown",
   "id": "f168c0ff",
   "metadata": {},
   "source": [
    "1. Here I check which country has the lowest % of their population under 15."
   ]
  },
  {
   "cell_type": "code",
   "execution_count": 15,
   "id": "1282c193",
   "metadata": {},
   "outputs": [
    {
     "name": "stdout",
     "output_type": "stream",
     "text": [
      "Country with the lowest of population under 15%:\n"
     ]
    },
    {
     "data": {
      "text/html": [
       "<div>\n",
       "<style scoped>\n",
       "    .dataframe tbody tr th:only-of-type {\n",
       "        vertical-align: middle;\n",
       "    }\n",
       "\n",
       "    .dataframe tbody tr th {\n",
       "        vertical-align: top;\n",
       "    }\n",
       "\n",
       "    .dataframe thead th {\n",
       "        text-align: right;\n",
       "    }\n",
       "</style>\n",
       "<table border=\"1\" class=\"dataframe\">\n",
       "  <thead>\n",
       "    <tr style=\"text-align: right;\">\n",
       "      <th></th>\n",
       "      <th>Country</th>\n",
       "      <th>Region</th>\n",
       "      <th>Population</th>\n",
       "      <th>Under15</th>\n",
       "      <th>Over60</th>\n",
       "      <th>FertilityRate</th>\n",
       "      <th>LifeExpectancy</th>\n",
       "      <th>ChildMortality</th>\n",
       "      <th>CellularSubscribers</th>\n",
       "      <th>LiteracyRate</th>\n",
       "      <th>GNI</th>\n",
       "      <th>PrimarySchoolEnrollmentMale</th>\n",
       "      <th>PrimarySchoolEnrollmentFemale</th>\n",
       "    </tr>\n",
       "  </thead>\n",
       "  <tbody>\n",
       "    <tr>\n",
       "      <th>85</th>\n",
       "      <td>Japan</td>\n",
       "      <td>Western Pacific</td>\n",
       "      <td>127000</td>\n",
       "      <td>13.12</td>\n",
       "      <td>31.92</td>\n",
       "      <td>1.39</td>\n",
       "      <td>83</td>\n",
       "      <td>3.0</td>\n",
       "      <td>104.95</td>\n",
       "      <td>94.3</td>\n",
       "      <td>35330.0</td>\n",
       "      <td>97.6</td>\n",
       "      <td>97.5</td>\n",
       "    </tr>\n",
       "  </tbody>\n",
       "</table>\n",
       "</div>"
      ],
      "text/plain": [
       "   Country           Region  Population  Under15  Over60  FertilityRate  \\\n",
       "85   Japan  Western Pacific      127000    13.12   31.92           1.39   \n",
       "\n",
       "    LifeExpectancy  ChildMortality  CellularSubscribers  LiteracyRate  \\\n",
       "85              83             3.0               104.95          94.3   \n",
       "\n",
       "        GNI  PrimarySchoolEnrollmentMale  PrimarySchoolEnrollmentFemale  \n",
       "85  35330.0                         97.6                           97.5  "
      ]
     },
     "execution_count": 15,
     "metadata": {},
     "output_type": "execute_result"
    }
   ],
   "source": [
    "lowest_under15_country = data[data['Under15'] == data['Under15'].min()]\n",
    "print(\"Country with the lowest of population under 15%:\")\n",
    "lowest_under15_country"
   ]
  },
  {
   "cell_type": "markdown",
   "id": "9c7b7e38",
   "metadata": {},
   "source": [
    "Above I have found that Japan has the lowest percentage of population under 15."
   ]
  },
  {
   "cell_type": "markdown",
   "id": "d843a997",
   "metadata": {},
   "source": [
    "Below I'm going to check which country has the highest % of their population under 15."
   ]
  },
  {
   "cell_type": "code",
   "execution_count": 16,
   "id": "bd838400",
   "metadata": {},
   "outputs": [
    {
     "name": "stdout",
     "output_type": "stream",
     "text": [
      "Country with the highest % of population under 15:\n"
     ]
    },
    {
     "data": {
      "text/html": [
       "<div>\n",
       "<style scoped>\n",
       "    .dataframe tbody tr th:only-of-type {\n",
       "        vertical-align: middle;\n",
       "    }\n",
       "\n",
       "    .dataframe tbody tr th {\n",
       "        vertical-align: top;\n",
       "    }\n",
       "\n",
       "    .dataframe thead th {\n",
       "        text-align: right;\n",
       "    }\n",
       "</style>\n",
       "<table border=\"1\" class=\"dataframe\">\n",
       "  <thead>\n",
       "    <tr style=\"text-align: right;\">\n",
       "      <th></th>\n",
       "      <th>Country</th>\n",
       "      <th>Region</th>\n",
       "      <th>Population</th>\n",
       "      <th>Under15</th>\n",
       "      <th>Over60</th>\n",
       "      <th>FertilityRate</th>\n",
       "      <th>LifeExpectancy</th>\n",
       "      <th>ChildMortality</th>\n",
       "      <th>CellularSubscribers</th>\n",
       "      <th>LiteracyRate</th>\n",
       "      <th>GNI</th>\n",
       "      <th>PrimarySchoolEnrollmentMale</th>\n",
       "      <th>PrimarySchoolEnrollmentFemale</th>\n",
       "    </tr>\n",
       "  </thead>\n",
       "  <tbody>\n",
       "    <tr>\n",
       "      <th>123</th>\n",
       "      <td>Niger</td>\n",
       "      <td>Africa</td>\n",
       "      <td>17157</td>\n",
       "      <td>49.99</td>\n",
       "      <td>4.26</td>\n",
       "      <td>7.58</td>\n",
       "      <td>56</td>\n",
       "      <td>113.5</td>\n",
       "      <td>29.52</td>\n",
       "      <td>70.6</td>\n",
       "      <td>720.0</td>\n",
       "      <td>64.2</td>\n",
       "      <td>52.0</td>\n",
       "    </tr>\n",
       "  </tbody>\n",
       "</table>\n",
       "</div>"
      ],
      "text/plain": [
       "    Country  Region  Population  Under15  Over60  FertilityRate  \\\n",
       "123   Niger  Africa       17157    49.99    4.26           7.58   \n",
       "\n",
       "     LifeExpectancy  ChildMortality  CellularSubscribers  LiteracyRate    GNI  \\\n",
       "123              56           113.5                29.52          70.6  720.0   \n",
       "\n",
       "     PrimarySchoolEnrollmentMale  PrimarySchoolEnrollmentFemale  \n",
       "123                         64.2                           52.0  "
      ]
     },
     "execution_count": 16,
     "metadata": {},
     "output_type": "execute_result"
    }
   ],
   "source": [
    "highest_under15_country = data[data['Under15'] == data['Under15'].max()]\n",
    "print(\"Country with the highest % of population under 15:\")\n",
    "highest_under15_country"
   ]
  },
  {
   "cell_type": "markdown",
   "id": "4297fde7",
   "metadata": {},
   "source": [
    "Above I have found that Niger has the highest percentage of population under 15."
   ]
  },
  {
   "cell_type": "markdown",
   "id": "1b5f52eb",
   "metadata": {},
   "source": [
    "2. Below I'm going to check which region has the highest % of population over 60.\n",
    "First I'm going to Calculate the average percentage of population over 60 for each region then Create a table to represent the 'Percentage of Population Over 60 by Region'"
   ]
  },
  {
   "cell_type": "code",
   "execution_count": 17,
   "id": "edbc474c",
   "metadata": {},
   "outputs": [
    {
     "name": "stdout",
     "output_type": "stream",
     "text": [
      "Percentage of Population Over 60 by Region:\n"
     ]
    },
    {
     "data": {
      "text/html": [
       "<div>\n",
       "<style scoped>\n",
       "    .dataframe tbody tr th:only-of-type {\n",
       "        vertical-align: middle;\n",
       "    }\n",
       "\n",
       "    .dataframe tbody tr th {\n",
       "        vertical-align: top;\n",
       "    }\n",
       "\n",
       "    .dataframe thead th {\n",
       "        text-align: right;\n",
       "    }\n",
       "</style>\n",
       "<table border=\"1\" class=\"dataframe\">\n",
       "  <thead>\n",
       "    <tr style=\"text-align: right;\">\n",
       "      <th></th>\n",
       "      <th>Region</th>\n",
       "      <th>Average Percentage of Population Over 60</th>\n",
       "    </tr>\n",
       "  </thead>\n",
       "  <tbody>\n",
       "    <tr>\n",
       "      <th>0</th>\n",
       "      <td>Africa</td>\n",
       "      <td>5.22</td>\n",
       "    </tr>\n",
       "    <tr>\n",
       "      <th>1</th>\n",
       "      <td>Americas</td>\n",
       "      <td>5.62</td>\n",
       "    </tr>\n",
       "    <tr>\n",
       "      <th>2</th>\n",
       "      <td>Eastern Mediterranean</td>\n",
       "      <td>8.77</td>\n",
       "    </tr>\n",
       "    <tr>\n",
       "      <th>3</th>\n",
       "      <td>Europe</td>\n",
       "      <td>10.16</td>\n",
       "    </tr>\n",
       "    <tr>\n",
       "      <th>4</th>\n",
       "      <td>South-East Asia</td>\n",
       "      <td>10.94</td>\n",
       "    </tr>\n",
       "    <tr>\n",
       "      <th>5</th>\n",
       "      <td>Western Pacific</td>\n",
       "      <td>19.77</td>\n",
       "    </tr>\n",
       "  </tbody>\n",
       "</table>\n",
       "</div>"
      ],
      "text/plain": [
       "                  Region  Average Percentage of Population Over 60\n",
       "0                 Africa                                      5.22\n",
       "1               Americas                                      5.62\n",
       "2  Eastern Mediterranean                                      8.77\n",
       "3                 Europe                                     10.16\n",
       "4        South-East Asia                                     10.94\n",
       "5        Western Pacific                                     19.77"
      ]
     },
     "execution_count": 17,
     "metadata": {},
     "output_type": "execute_result"
    }
   ],
   "source": [
    "region_avg_over60 = data.groupby('Region')['Over60'].mean()\n",
    "region_avg_over60 = region_avg_over60.round(2)\n",
    "region_avg_over60_sorted = region_avg_over60.sort_values()\n",
    "table_data = {\n",
    "    'Region': region_avg_over60.index,\n",
    "    'Average Percentage of Population Over 60': region_avg_over60_sorted.values\n",
    "}\n",
    "over60_table = pd.DataFrame(table_data)\n",
    "\n",
    "print(\"Percentage of Population Over 60 by Region:\")\n",
    "over60_table"
   ]
  },
  {
   "cell_type": "markdown",
   "id": "ab5c6854",
   "metadata": {},
   "source": [
    "Based on the analysis above, it has been identified that the Western Pacific region has the highest percentage of their population aged over 60."
   ]
  },
  {
   "cell_type": "markdown",
   "id": "b662c500",
   "metadata": {},
   "source": [
    "3. Let's continue finding the regions with the lowest literacy rates?\n",
    "Below i'm going to calculate the average literacy rate for each region\n",
    "then create a table to represent the 'Average Literacy Rate by Region'"
   ]
  },
  {
   "cell_type": "code",
   "execution_count": 18,
   "id": "92ca97e3",
   "metadata": {},
   "outputs": [
    {
     "name": "stdout",
     "output_type": "stream",
     "text": [
      "Average Literacy Rate by Region:\n"
     ]
    },
    {
     "data": {
      "text/html": [
       "<div>\n",
       "<style scoped>\n",
       "    .dataframe tbody tr th:only-of-type {\n",
       "        vertical-align: middle;\n",
       "    }\n",
       "\n",
       "    .dataframe tbody tr th {\n",
       "        vertical-align: top;\n",
       "    }\n",
       "\n",
       "    .dataframe thead th {\n",
       "        text-align: right;\n",
       "    }\n",
       "</style>\n",
       "<table border=\"1\" class=\"dataframe\">\n",
       "  <thead>\n",
       "    <tr style=\"text-align: right;\">\n",
       "      <th></th>\n",
       "      <th>Region</th>\n",
       "      <th>Average Literacy Rate</th>\n",
       "    </tr>\n",
       "  </thead>\n",
       "  <tbody>\n",
       "    <tr>\n",
       "      <th>0</th>\n",
       "      <td>Africa</td>\n",
       "      <td>65.52</td>\n",
       "    </tr>\n",
       "    <tr>\n",
       "      <th>1</th>\n",
       "      <td>Americas</td>\n",
       "      <td>69.42</td>\n",
       "    </tr>\n",
       "    <tr>\n",
       "      <th>2</th>\n",
       "      <td>Eastern Mediterranean</td>\n",
       "      <td>83.87</td>\n",
       "    </tr>\n",
       "    <tr>\n",
       "      <th>3</th>\n",
       "      <td>Europe</td>\n",
       "      <td>92.91</td>\n",
       "    </tr>\n",
       "    <tr>\n",
       "      <th>4</th>\n",
       "      <td>South-East Asia</td>\n",
       "      <td>93.19</td>\n",
       "    </tr>\n",
       "    <tr>\n",
       "      <th>5</th>\n",
       "      <td>Western Pacific</td>\n",
       "      <td>98.99</td>\n",
       "    </tr>\n",
       "  </tbody>\n",
       "</table>\n",
       "</div>"
      ],
      "text/plain": [
       "                  Region  Average Literacy Rate\n",
       "0                 Africa                  65.52\n",
       "1               Americas                  69.42\n",
       "2  Eastern Mediterranean                  83.87\n",
       "3                 Europe                  92.91\n",
       "4        South-East Asia                  93.19\n",
       "5        Western Pacific                  98.99"
      ]
     },
     "execution_count": 18,
     "metadata": {},
     "output_type": "execute_result"
    }
   ],
   "source": [
    "region_avg_literacy = data.groupby('Region')['LiteracyRate'].mean()\n",
    "region_avg_literacy = region_avg_literacy.round(2)\n",
    "region_avg_literacy_sorted = region_avg_literacy.sort_values()\n",
    "\n",
    "table_data = {\n",
    "    'Region': region_avg_literacy.index,\n",
    "    'Average Literacy Rate': region_avg_literacy_sorted.values\n",
    "}\n",
    "literacy_rate_table = pd.DataFrame(table_data)\n",
    "\n",
    "print(\"Average Literacy Rate by Region:\")\n",
    "literacy_rate_table"
   ]
  },
  {
   "cell_type": "markdown",
   "id": "4b0cb6b1",
   "metadata": {},
   "source": [
    "After doing the observation above i found that South-East Asia has the lowest literacy rates then followed by Africa"
   ]
  },
  {
   "cell_type": "markdown",
   "id": "907ed935",
   "metadata": {},
   "source": [
    "4.Let's continue finding a Regions with the lowest child mortality rates?\n",
    "Below i'm going to Calculate the average child mortality rate for each region first then Create a table to represent the 'Average Child Mortality Rate by Region'."
   ]
  },
  {
   "cell_type": "code",
   "execution_count": 19,
   "id": "b0536ef5",
   "metadata": {},
   "outputs": [
    {
     "name": "stdout",
     "output_type": "stream",
     "text": [
      "Average Child Mortality Rate by Region:\n"
     ]
    },
    {
     "data": {
      "text/html": [
       "<div>\n",
       "<style scoped>\n",
       "    .dataframe tbody tr th:only-of-type {\n",
       "        vertical-align: middle;\n",
       "    }\n",
       "\n",
       "    .dataframe tbody tr th {\n",
       "        vertical-align: top;\n",
       "    }\n",
       "\n",
       "    .dataframe thead th {\n",
       "        text-align: right;\n",
       "    }\n",
       "</style>\n",
       "<table border=\"1\" class=\"dataframe\">\n",
       "  <thead>\n",
       "    <tr style=\"text-align: right;\">\n",
       "      <th></th>\n",
       "      <th>Region</th>\n",
       "      <th>Average Child Mortality Rate</th>\n",
       "    </tr>\n",
       "  </thead>\n",
       "  <tbody>\n",
       "    <tr>\n",
       "      <th>0</th>\n",
       "      <td>Africa</td>\n",
       "      <td>10.05</td>\n",
       "    </tr>\n",
       "    <tr>\n",
       "      <th>1</th>\n",
       "      <td>Americas</td>\n",
       "      <td>19.32</td>\n",
       "    </tr>\n",
       "    <tr>\n",
       "      <th>2</th>\n",
       "      <td>Eastern Mediterranean</td>\n",
       "      <td>24.71</td>\n",
       "    </tr>\n",
       "    <tr>\n",
       "      <th>3</th>\n",
       "      <td>Europe</td>\n",
       "      <td>35.05</td>\n",
       "    </tr>\n",
       "    <tr>\n",
       "      <th>4</th>\n",
       "      <td>South-East Asia</td>\n",
       "      <td>40.25</td>\n",
       "    </tr>\n",
       "    <tr>\n",
       "      <th>5</th>\n",
       "      <td>Western Pacific</td>\n",
       "      <td>84.04</td>\n",
       "    </tr>\n",
       "  </tbody>\n",
       "</table>\n",
       "</div>"
      ],
      "text/plain": [
       "                  Region  Average Child Mortality Rate\n",
       "0                 Africa                         10.05\n",
       "1               Americas                         19.32\n",
       "2  Eastern Mediterranean                         24.71\n",
       "3                 Europe                         35.05\n",
       "4        South-East Asia                         40.25\n",
       "5        Western Pacific                         84.04"
      ]
     },
     "execution_count": 19,
     "metadata": {},
     "output_type": "execute_result"
    }
   ],
   "source": [
    "region_avg_child_mortality = data.groupby('Region')['ChildMortality'].mean()\n",
    "region_avg_child_mortality = region_avg_child_mortality.round(2)\n",
    "region_avg_child_mortality_sorted = region_avg_child_mortality.sort_values()\n",
    "\n",
    "table_data = {\n",
    "    'Region': region_avg_child_mortality.index,\n",
    "    'Average Child Mortality Rate': region_avg_child_mortality_sorted.values\n",
    "}\n",
    "child_mortality_table = pd.DataFrame(table_data)\n",
    "\n",
    "print(\"Average Child Mortality Rate by Region:\")\n",
    "child_mortality_table"
   ]
  },
  {
   "cell_type": "markdown",
   "id": "c4ec39f4",
   "metadata": {},
   "source": [
    "After doing the observation above I found that Europe has the lowest child mortality rate followed by the Americas."
   ]
  },
  {
   "cell_type": "markdown",
   "id": "780f026e",
   "metadata": {},
   "source": [
    "5.Below I'm going to calculate the average life expectancy for each region first then create a table to represent the 'Average Life Expectancy by Region'."
   ]
  },
  {
   "cell_type": "code",
   "execution_count": 20,
   "id": "8bce8c51",
   "metadata": {},
   "outputs": [
    {
     "name": "stdout",
     "output_type": "stream",
     "text": [
      "Average Life Expectancy by Region:\n"
     ]
    },
    {
     "data": {
      "text/html": [
       "<div>\n",
       "<style scoped>\n",
       "    .dataframe tbody tr th:only-of-type {\n",
       "        vertical-align: middle;\n",
       "    }\n",
       "\n",
       "    .dataframe tbody tr th {\n",
       "        vertical-align: top;\n",
       "    }\n",
       "\n",
       "    .dataframe thead th {\n",
       "        text-align: right;\n",
       "    }\n",
       "</style>\n",
       "<table border=\"1\" class=\"dataframe\">\n",
       "  <thead>\n",
       "    <tr style=\"text-align: right;\">\n",
       "      <th></th>\n",
       "      <th>Region</th>\n",
       "      <th>Average Life Expectancy</th>\n",
       "    </tr>\n",
       "  </thead>\n",
       "  <tbody>\n",
       "    <tr>\n",
       "      <th>0</th>\n",
       "      <td>Africa</td>\n",
       "      <td>58.0</td>\n",
       "    </tr>\n",
       "    <tr>\n",
       "      <th>1</th>\n",
       "      <td>Americas</td>\n",
       "      <td>69.0</td>\n",
       "    </tr>\n",
       "    <tr>\n",
       "      <th>2</th>\n",
       "      <td>Eastern Mediterranean</td>\n",
       "      <td>70.0</td>\n",
       "    </tr>\n",
       "    <tr>\n",
       "      <th>3</th>\n",
       "      <td>Europe</td>\n",
       "      <td>72.0</td>\n",
       "    </tr>\n",
       "    <tr>\n",
       "      <th>4</th>\n",
       "      <td>South-East Asia</td>\n",
       "      <td>74.0</td>\n",
       "    </tr>\n",
       "    <tr>\n",
       "      <th>5</th>\n",
       "      <td>Western Pacific</td>\n",
       "      <td>77.0</td>\n",
       "    </tr>\n",
       "  </tbody>\n",
       "</table>\n",
       "</div>"
      ],
      "text/plain": [
       "                  Region  Average Life Expectancy\n",
       "0                 Africa                     58.0\n",
       "1               Americas                     69.0\n",
       "2  Eastern Mediterranean                     70.0\n",
       "3                 Europe                     72.0\n",
       "4        South-East Asia                     74.0\n",
       "5        Western Pacific                     77.0"
      ]
     },
     "execution_count": 20,
     "metadata": {},
     "output_type": "execute_result"
    }
   ],
   "source": [
    "region_avg_life_expectancy = data.groupby('Region')['LifeExpectancy'].mean()\n",
    "region_avg_life_expectancy = region_avg_life_expectancy.round()\n",
    "region_avg_life_expectancy_sorted = region_avg_life_expectancy.sort_values()\n",
    "\n",
    " \n",
    "table_data = {\n",
    "    'Region': region_avg_life_expectancy.index,\n",
    "    'Average Life Expectancy': region_avg_life_expectancy_sorted.values\n",
    "}\n",
    "life_expectancy_table = pd.DataFrame(table_data)\n",
    "\n",
    "print(\"Average Life Expectancy by Region:\")\n",
    "life_expectancy_table"
   ]
  },
  {
   "cell_type": "markdown",
   "id": "ebfcce39",
   "metadata": {},
   "source": [
    "After visualizing the above, I found that people from Africa have a low range of life expectancy and people from other regions have a high range of life expectancy but Europe is the region with a high range of life expectancy above all the regions."
   ]
  },
  {
   "cell_type": "markdown",
   "id": "c3561382",
   "metadata": {},
   "source": [
    "6.Below i'm going to create a box-and-whisker plot to visualize the distribution of child mortality rates across different regions"
   ]
  },
  {
   "cell_type": "code",
   "execution_count": 21,
   "id": "7f990fec",
   "metadata": {},
   "outputs": [
    {
     "data": {
      "text/plain": [
       "<Figure size 720x432 with 0 Axes>"
      ]
     },
     "metadata": {},
     "output_type": "display_data"
    },
    {
     "data": {
      "image/png": "[encoded data removed]",
      "text/plain": [
       "<Figure size 432x288 with 1 Axes>"
      ]
     },
     "metadata": {
      "needs_background": "light"
     },
     "output_type": "display_data"
    }
   ],
   "source": [
    "plt.figure(figsize=(10, 6))\n",
    "data.boxplot(column='ChildMortality', by='Region', grid=False)\n",
    "plt.xlabel('Region',fontproperties=font_weight)\n",
    "plt.ylabel('Child Mortality Rate',fontproperties=font_weight)\n",
    "plt.title('Child Mortality Rate by Region',fontproperties=font_weight)\n",
    "plt.xticks(rotation=45, ha='right')\n",
    "plt.xticks(fontproperties=font_weight)\n",
    "plt.yticks(fontproperties=font_weight)\n",
    "plt.suptitle('')\n",
    "plt.show()"
   ]
  },
  {
   "cell_type": "markdown",
   "id": "9dd0fbc2",
   "metadata": {},
   "source": [
    "7.Below i'm going to visualize and investigate the relationships between life expectancy and wealth across different regions, as well as the relationship between wealth and fertility across different regions, i'm going create scatter plots to visualize these associations, and examine these relationships specifically for African countries to see if the patterns hold in that region."
   ]
  },
  {
   "cell_type": "code",
   "execution_count": 22,
   "id": "206a4363",
   "metadata": {},
   "outputs": [
    {
     "data": {
      "image/png": "[encoded data removed]",
      "text/plain": [
       "<Figure size 864x432 with 1 Axes>"
      ]
     },
     "metadata": {
      "needs_background": "light"
     },
     "output_type": "display_data"
    }
   ],
   "source": [
    "plt.figure(figsize=(12, 6))\n",
    "for region, group in data.groupby('Region'):\n",
    "    plt.scatter(group['LifeExpectancy'], group['GNI'], label=region, alpha=0.7)\n",
    "plt.xlabel('Life Expectancy (years)', fontproperties=font_weight)\n",
    "plt.ylabel('Gross National Income (GNI) per capita', fontproperties=font_weight)\n",
    "plt.xticks(fontproperties=font_weight)\n",
    "plt.yticks(fontproperties=font_weight)\n",
    "plt.title('Life Expectancy vs. Gross National Income by Region', fontproperties=font_weight)\n",
    "plt.grid(True)\n",
    "plt.legend()\n",
    "plt.tight_layout()\n",
    "plt.show()"
   ]
  },
  {
   "cell_type": "markdown",
   "id": "40b22010",
   "metadata": {},
   "source": [
    "Upon analyzing the data in Life Expectancy vs Gross Nation Income graph, there is a weak positive correlation between life expectancy and Gross National Income across different regions. Higher-income countries tend to have higher life expectancy. However, there is some variation within regions, indicating that other factors may also play a role in life expectancy. \n",
    "\n",
    "looking at the Fertility Rate vs. gross National Income graph, there is a negative correlation between the fertility rate and Gross National Income. Higher-income countries tend to have lower fertility rates. However, as with life expectancy, there is variation within regions, suggesting that other factors influence fertility rates.\n",
    "\n",
    "when it comes to African countries, I found that there is a weak positive correlation between Gross National Income and life expectancy, and a weak negative correlation between Gross National Income and fertility rate, indicating that these relationships hold for African countries as well.\n"
   ]
  },
  {
   "cell_type": "markdown",
   "id": "e66b8294",
   "metadata": {},
   "source": [
    "8.Below I'm going to investigate the relationship between fertility and income by creating a scatter plot to visualize how these two variables are related. Additionally, I'm going to calculate the correlation coefficient to quantify the strength and direction of the relationship and see if fertility decreases as income increases?"
   ]
  },
  {
   "cell_type": "code",
   "execution_count": 23,
   "id": "6666d5ef",
   "metadata": {},
   "outputs": [
    {
     "data": {
      "image/png": "[encoded data removed]",
      "text/plain": [
       "<Figure size 864x432 with 1 Axes>"
      ]
     },
     "metadata": {
      "needs_background": "light"
     },
     "output_type": "display_data"
    }
   ],
   "source": [
    "plt.figure(figsize=(12, 6))\n",
    "for region, group in data.groupby('Region'):\n",
    "    plt.scatter(group['FertilityRate'], group['GNI'], label=region, alpha=0.7)\n",
    "plt.xlabel('Fertility Rate (Avg. number of children per woman)', fontproperties=font_weight)\n",
    "plt.ylabel('Gross National Income (GNI) per capita', fontproperties=font_weight)\n",
    "plt.title('Fertility Rate vs. Gross National Income by Region', fontproperties=font_weight)\n",
    "plt.xticks(fontproperties=font_weight)\n",
    "plt.yticks(fontproperties=font_weight)\n",
    "plt.grid(True)\n",
    "plt.legend()\n",
    "plt.tight_layout()\n",
    "plt.show()"
   ]
  },
  {
   "cell_type": "markdown",
   "id": "6e883555",
   "metadata": {},
   "source": [
    "Yes, as income increases fertility decreases as we can see from the above analysis that we have a strong negative correlation,Yes,there are few counties that don't seem to follow this trend."
   ]
  },
  {
   "cell_type": "markdown",
   "id": "4100f52c",
   "metadata": {},
   "source": [
    "9.Below I continued visualizing some more of the data to check Life expectancy across different regions,I'm going to create a box-and-whisker plot to visualize the distribution of life expectancy across different regions"
   ]
  },
  {
   "cell_type": "code",
   "execution_count": 24,
   "id": "9d9560f5",
   "metadata": {},
   "outputs": [
    {
     "data": {
      "text/plain": [
       "<Figure size 720x432 with 0 Axes>"
      ]
     },
     "metadata": {},
     "output_type": "display_data"
    },
    {
     "data": {
      "image/png": "[encoded data removed]",
      "text/plain": [
       "<Figure size 432x288 with 1 Axes>"
      ]
     },
     "metadata": {
      "needs_background": "light"
     },
     "output_type": "display_data"
    }
   ],
   "source": [
    "plt.figure(figsize=(10, 6))\n",
    "data.boxplot(column='LifeExpectancy', by='Region', grid=False)\n",
    "plt.xlabel('Region',fontproperties=font_weight)\n",
    "plt.xticks(fontproperties=font_weight)\n",
    "plt.ylabel('Life Expectancy',fontproperties=font_weight)\n",
    "plt.yticks(fontproperties=font_weight)\n",
    "plt.title('Life Expectancy by Region',fontproperties=font_weight)\n",
    "plt.xticks(rotation=45, ha='right')\n",
    "plt.suptitle('') \n",
    "plt.show()"
   ]
  },
  {
   "cell_type": "markdown",
   "id": "e9ca9a58",
   "metadata": {},
   "source": [
    "10. Below i'm going to create the scatter plots to explore the relationship between literacy rate and life expectancy"
   ]
  },
  {
   "cell_type": "code",
   "execution_count": 25,
   "id": "e2933397",
   "metadata": {},
   "outputs": [
    {
     "data": {
      "image/png": "[encoded data removed]",
      "text/plain": [
       "<Figure size 864x432 with 1 Axes>"
      ]
     },
     "metadata": {
      "needs_background": "light"
     },
     "output_type": "display_data"
    }
   ],
   "source": [
    "plt.figure(figsize=(12, 6))\n",
    "for region, group in data.groupby('Region'):\n",
    "    plt.scatter(group['LiteracyRate'], group['LifeExpectancy'], label=region, alpha=0.7)\n",
    "plt.xlabel('Literacy Rate (%)',fontproperties=font_weight)\n",
    "plt.ylabel('Life Expectancy (%)',fontproperties=font_weight)\n",
    "plt.xticks(fontproperties=font_weight)\n",
    "plt.yticks(fontproperties=font_weight)\n",
    "plt.title('Life Expectancy vs. Literacy Rate by Region',fontproperties=font_weight)\n",
    "plt.grid(True)\n",
    "plt.legend()\n",
    "plt.show()"
   ]
  },
  {
   "cell_type": "markdown",
   "id": "641470d1",
   "metadata": {},
   "source": [
    "11.Below i'm going to create the scatter plot specifically for African countries"
   ]
  },
  {
   "cell_type": "code",
   "execution_count": 26,
   "id": "e4bff4c5",
   "metadata": {},
   "outputs": [
    {
     "data": {
      "image/png": "[encoded data removed]",
      "text/plain": [
       "<Figure size 576x432 with 1 Axes>"
      ]
     },
     "metadata": {
      "needs_background": "light"
     },
     "output_type": "display_data"
    }
   ],
   "source": [
    "african_data = data[data['Region'] == 'Africa']\n",
    "\n",
    "plt.figure(figsize=(8, 6))\n",
    "plt.scatter(african_data['LiteracyRate'], african_data['LifeExpectancy'], alpha=0.7)\n",
    "plt.xlabel('Literacy Rate (%)',fontproperties=font_weight)\n",
    "plt.ylabel('Life Expectancy (year)',fontproperties=font_weight)\n",
    "plt.xticks(fontproperties=font_weight)\n",
    "plt.yticks(fontproperties=font_weight)\n",
    "plt.title('Life Expectancy vs. Literacy Rate (African Countries)',fontproperties=font_weight)\n",
    "plt.grid(True)\n",
    "plt.show()"
   ]
  },
  {
   "cell_type": "markdown",
   "id": "84b01b96",
   "metadata": {},
   "source": [
    "upon analyzing the scatter plot in the Life Expectancy vs Literacy Rate by Region, we can observe a weak positive correlation, indicating that regions with higher literacy rates tend to have higher life expectancies. However, there is some variability within regions, suggesting that other factors also influence life expectancy\n",
    "\n",
    "additionally, looking at Life Expectancy vs Literacy Rate for African Countries scatter plot, The scatter plot for African countries also shows a weak positive correlation between literacy rate and life expectancy. African countries with higher literacy rates tend to have higher life expectancies. However, there are variations among the data points, indicating that factors other than literacy may also affect life expectancy."
   ]
  },
  {
   "cell_type": "markdown",
   "id": "interpreted-hurricane",
   "metadata": {},
   "source": [
    "# Conclusion "
   ]
  },
  {
   "cell_type": "markdown",
   "id": "91614c5a",
   "metadata": {},
   "source": [
    "From the life expectancy across different regions box plot above, we can conclude that people from other regions live much longer than people from africa and people from europe are the one's with high life Expectancy across all the region. Europe has a low median value, Looking at the relationship between fertility and income, we can see that we have a negative correlation as the graph shows that when income increases fertility rate decreases."
   ]
  }
 ],
 "metadata": {
  "kernelspec": {
   "display_name": "Python 3",
   "language": "python",
   "name": "python3"
  },
  "language_info": {
   "codemirror_mode": {
    "name": "ipython",
    "version": 3
   },
   "file_extension": ".py",
   "mimetype": "text/x-python",
   "name": "python",
   "nbconvert_exporter": "python",
   "pygments_lexer": "ipython3",
   "version": "3.8.8"
  }
 },
 "nbformat": 4,
 "nbformat_minor": 5
}
